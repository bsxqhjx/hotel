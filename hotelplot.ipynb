{
 "cells": [
  {
   "cell_type": "code",
   "execution_count": 2,
   "id": "b3cf6e84-bff0-4fc5-bbfa-f34e0bd87f5d",
   "metadata": {
    "tags": []
   },
   "outputs": [
    {
     "name": "stderr",
     "output_type": "stream",
     "text": [
      "Processing: 100%|██████████| 34/34 [04:53<00:00,  8.64s/it]"
     ]
    },
    {
     "name": "stdout",
     "output_type": "stream",
     "text": [
      "裁剪完成\n"
     ]
    },
    {
     "name": "stderr",
     "output_type": "stream",
     "text": [
      "\n"
     ]
    }
   ],
   "source": [
    "import geopandas as gpd\n",
    "import os\n",
    "from tqdm import tqdm\n",
    "\n",
    "# 读取原文件\n",
    "original_shapefile = r'E:\\CNIHS.shp'\n",
    "original_data = gpd.read_file(original_shapefile)\n",
    "\n",
    "# 读取分省文件\n",
    "province_shapefile = r'E:\\vectorresult\\province\\chinaprovince.shp'\n",
    "province_data = gpd.read_file(province_shapefile)\n",
    "\n",
    "# 确保输出文件夹存在\n",
    "output_folder = r'E:\\vectorresult\\province'\n",
    "os.makedirs(output_folder, exist_ok=True)\n",
    "\n",
    "# 迭代省份并裁剪\n",
    "for idx, province in tqdm(province_data.iterrows(), desc=\"Processing\", total=len(province_data)):\n",
    "    province_name = province['province']\n",
    "    province_geometry = province['geometry']\n",
    "    \n",
    "    # 裁剪原文件\n",
    "    clipped_data = gpd.clip(original_data, province_geometry)\n",
    "    \n",
    "    # 保存裁剪后的文件\n",
    "    output_filename = os.path.join(output_folder, f'{province_name}_clipped.shp')\n",
    "    clipped_data.to_file(output_filename)\n",
    "    \n",
    "    # 保存不在省份范围内的数据\n",
    "    non_clipped_data = original_data[~original_data.geometry.intersects(province_geometry)]\n",
    "    non_clipped_filename = os.path.join(output_folder, f'{province_name}_non_clipped.shp')\n",
    "    non_clipped_data.to_file(non_clipped_filename)\n",
    "\n",
    "print(\"裁剪完成\")\n"
   ]
  },
  {
   "cell_type": "code",
   "execution_count": null,
   "id": "184f0325-f065-4221-988e-12521387afa9",
   "metadata": {
    "tags": []
   },
   "outputs": [],
   "source": [
    "import geopandas as gpd\n",
    "import os\n",
    "from tqdm import tqdm\n",
    "\n",
    "# 读取原文件\n",
    "original_shapefile = r'E:\\CNIHS.shp'\n",
    "original_data = gpd.read_file(original_shapefile)\n",
    "\n",
    "# 读取分省文件\n",
    "province_shapefile = r'E:\\vectorresult\\province\\chinaprovince.shp'\n",
    "province_data = gpd.read_file(province_shapefile)\n",
    "\n",
    "# 确保输出文件夹存在\n",
    "output_folder = r'E:\\vectorresult\\province'\n",
    "os.makedirs(output_folder, exist_ok=True)\n",
    "\n",
    "# 获取所有省份的几何并合并\n",
    "all_province_geometry = province_data.unary_union\n",
    "\n",
    "# 迭代省份并裁剪\n",
    "for idx, province in tqdm(province_data.iterrows(), desc=\"Processing\", total=len(province_data)):\n",
    "    province_name = province['province']\n",
    "    province_geometry = province['geometry']\n",
    "    \n",
    "    # 裁剪原文件\n",
    "    clipped_data = gpd.clip(original_data, province_geometry)\n",
    "    \n",
    "    # 保存裁剪后的文件\n",
    "    output_filename = os.path.join(output_folder, f'{province_name}_clipped.shp')\n",
    "    clipped_data.to_file(output_filename, encoding='utf-8')\n",
    "    \n",
    "# 保存不在所有省份范围内的数据\n",
    "non_clipped_data = original_data[~original_data.geometry.intersects(all_province_geometry)]\n",
    "non_clipped_filename = os.path.join(output_folder, 'non_province_data.shp')\n",
    "non_clipped_data.to_file(non_clipped_filename, encoding='utf-8')\n",
    "\n",
    "print(\"裁剪完成\")\n"
   ]
  },
  {
   "cell_type": "code",
   "execution_count": null,
   "id": "cf134144-fb53-4d6c-b0c6-5a20904722eb",
   "metadata": {},
   "outputs": [],
   "source": [
    "测"
   ]
  },
  {
   "cell_type": "code",
   "execution_count": null,
   "id": "fc5e064b-8712-44c7-9e3f-913b328e29ed",
   "metadata": {},
   "outputs": [],
   "source": []
  }
 ],
 "metadata": {
  "kernelspec": {
   "display_name": "Python 3 (ipykernel)",
   "language": "python",
   "name": "python3"
  },
  "language_info": {
   "codemirror_mode": {
    "name": "ipython",
    "version": 3
   },
   "file_extension": ".py",
   "mimetype": "text/x-python",
   "name": "python",
   "nbconvert_exporter": "python",
   "pygments_lexer": "ipython3",
   "version": "3.11.3"
  }
 },
 "nbformat": 4,
 "nbformat_minor": 5
}
